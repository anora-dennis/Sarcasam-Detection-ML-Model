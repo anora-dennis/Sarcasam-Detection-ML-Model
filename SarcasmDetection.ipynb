{
 "cells": [
  {
   "metadata": {
    "ExecuteTime": {
     "end_time": "2025-08-20T22:41:57.106815Z",
     "start_time": "2025-08-20T22:41:46.738380Z"
    }
   },
   "cell_type": "code",
   "source": [
    "import json\n",
    "import tensorflow as tf\n",
    "\n",
    "from tensorflow.keras.preprocessing.text import Tokenizer\n",
    "from tensorflow.keras.preprocessing.sequence import pad_sequences"
   ],
   "id": "188a56c77c99f15d",
   "outputs": [],
   "execution_count": 1
  },
  {
   "cell_type": "code",
   "id": "initial_id",
   "metadata": {
    "collapsed": true,
    "ExecuteTime": {
     "end_time": "2025-08-20T22:42:48.204364Z",
     "start_time": "2025-08-20T22:42:48.194613Z"
    }
   },
   "source": [
    "# Only the 10,000 most common words will be considered\n",
    "vocab_size = 10000\n",
    "# Words will be turned into vectors of 16 numbers for the model to understand relationships between words\n",
    "embedding_dim = 16\n",
    "# Sentences will be cut off or padded to fit exactly 100 words\n",
    "max_length = 100\n",
    "# Delete if it goes over 100\n",
    "trunc_type='post'\n",
    "# Pad with 0's if it goes under 100 words\n",
    "padding_type='post'\n",
    "# Replace any unknown word in the 10,000 word dictionary into 00V\n",
    "oov_tok = \"<OOV>\"\n",
    "# How many examples to be used in the training model\n",
    "training_size = 20000"
   ],
   "outputs": [],
   "execution_count": 2
  },
  {
   "metadata": {
    "ExecuteTime": {
     "end_time": "2025-08-20T22:45:17.897799Z",
     "start_time": "2025-08-20T22:45:17.154482Z"
    }
   },
   "cell_type": "code",
   "source": [
    "# Library allows python to download data from the internet\n",
    "import requests\n",
    "\n",
    "url = \"https://storage.googleapis.com/learning-datasets/sarcasm.json\"\n",
    "response = requests.get(url)\n",
    "with open(\"sarcasm.json\", 'wb') as f:  # saves in current folder\n",
    "    f.write(response.content)\n",
    "\n",
    "# Load JSON data\n",
    "with open(\"sarcasm.json\", 'r') as f:\n",
    "    datastore = json.load(f)\n",
    "\n",
    "# Prepare sentences and labels\n",
    "sentences = []\n",
    "labels = []\n",
    "\n",
    "for item in datastore:\n",
    "    sentences.append(item['headline'])\n",
    "    labels.append(item['is_sarcastic'])\n",
    "\n",
    "print(\"Number of samples:\", len(sentences))\n",
    "print(\"Example headline:\", sentences[0], \"| Label:\", labels[0])"
   ],
   "id": "bcf875817adc3f55",
   "outputs": [
    {
     "name": "stdout",
     "output_type": "stream",
     "text": [
      "Number of samples: 26709\n",
      "Example headline: former versace store clerk sues over secret 'black code' for minority shoppers | Label: 0\n"
     ]
    }
   ],
   "execution_count": 6
  },
  {
   "metadata": {
    "ExecuteTime": {
     "end_time": "2025-08-20T23:03:23.394306Z",
     "start_time": "2025-08-20T23:03:23.340378Z"
    }
   },
   "cell_type": "code",
   "source": [
    "# Slicing the data\n",
    "training_sentences = sentences[0:training_size]\n",
    "testing_sentences = sentences[training_size:]\n",
    "training_labels = labels[0:training_size]\n",
    "testing_labels = labels[training_size:]"
   ],
   "id": "75f74bf3834b1241",
   "outputs": [],
   "execution_count": 7
  },
  {
   "metadata": {
    "ExecuteTime": {
     "end_time": "2025-08-20T23:07:41.004702Z",
     "start_time": "2025-08-20T23:07:39.368954Z"
    }
   },
   "cell_type": "code",
   "source": [
    "tokenizer = Tokenizer(num_words=vocab_size, oov_token=oov_tok)\n",
    "tokenizer.fit_on_texts(training_sentences)\n",
    "\n",
    "word_index = tokenizer.word_index\n",
    "\n",
    "training_sequences = tokenizer.texts_to_sequences(training_sentences)\n",
    "training_padded = pad_sequences(training_sequences, maxlen=max_length, padding=padding_type, truncating=trunc_type)\n",
    "\n",
    "testing_sequences = tokenizer.texts_to_sequences(testing_sentences)\n",
    "testing_padded = pad_sequences(testing_sequences, maxlen=max_length, padding=padding_type, truncating=trunc_type)"
   ],
   "id": "73af49e91851bd06",
   "outputs": [],
   "execution_count": 8
  },
  {
   "metadata": {
    "ExecuteTime": {
     "end_time": "2025-08-20T23:07:56.410555Z",
     "start_time": "2025-08-20T23:07:56.400030Z"
    }
   },
   "cell_type": "code",
   "source": [
    "import numpy as np\n",
    "training_padded = np.array(training_padded)\n",
    "training_labels = np.array(training_labels)\n",
    "testing_padded = np.array(testing_padded)\n",
    "testing_labels = np.array(testing_labels)"
   ],
   "id": "a9cc21545be4dae9",
   "outputs": [],
   "execution_count": 9
  }
 ],
 "metadata": {
  "kernelspec": {
   "display_name": "Python 3",
   "language": "python",
   "name": "python3"
  },
  "language_info": {
   "codemirror_mode": {
    "name": "ipython",
    "version": 2
   },
   "file_extension": ".py",
   "mimetype": "text/x-python",
   "name": "python",
   "nbconvert_exporter": "python",
   "pygments_lexer": "ipython2",
   "version": "2.7.6"
  }
 },
 "nbformat": 4,
 "nbformat_minor": 5
}
