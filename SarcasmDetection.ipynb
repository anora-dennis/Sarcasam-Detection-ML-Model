{
 "cells": [
  {
   "metadata": {
    "ExecuteTime": {
     "end_time": "2025-08-20T22:41:57.106815Z",
     "start_time": "2025-08-20T22:41:46.738380Z"
    }
   },
   "cell_type": "code",
   "source": [
    "import json\n",
    "import tensorflow as tf\n",
    "\n",
    "from tensorflow.keras.preprocessing.text import Tokenizer\n",
    "from tensorflow.keras.preprocessing.sequence import pad_sequences"
   ],
   "id": "188a56c77c99f15d",
   "outputs": [],
   "execution_count": 1
  },
  {
   "cell_type": "code",
   "id": "initial_id",
   "metadata": {
    "collapsed": true,
    "ExecuteTime": {
     "end_time": "2025-08-20T22:42:48.204364Z",
     "start_time": "2025-08-20T22:42:48.194613Z"
    }
   },
   "source": [
    "# Only the 10,000 most common words will be considered\n",
    "vocab_size = 10000\n",
    "# Words will be turned into vectors of 16 numbers for the model to understand relationships between words\n",
    "embedding_dim = 16\n",
    "# Sentences will be cut off or padded to fit exactly 100 words\n",
    "max_length = 100\n",
    "# Delete if it goes over 100\n",
    "trunc_type='post'\n",
    "# Pad with 0's if it goes under 100 words\n",
    "padding_type='post'\n",
    "# Replace any unknown word in the 10,000 word dictionary into 00V\n",
    "oov_tok = \"<OOV>\"\n",
    "# How many examples to be used in the training model\n",
    "training_size = 20000"
   ],
   "outputs": [],
   "execution_count": 2
  },
  {
   "metadata": {
    "ExecuteTime": {
     "end_time": "2025-08-20T22:45:17.897799Z",
     "start_time": "2025-08-20T22:45:17.154482Z"
    }
   },
   "cell_type": "code",
   "source": [
    "# Library allows python to download data from the internet\n",
    "import requests\n",
    "\n",
    "url = \"https://storage.googleapis.com/learning-datasets/sarcasm.json\"\n",
    "response = requests.get(url)\n",
    "with open(\"sarcasm.json\", 'wb') as f:  # saves in current folder\n",
    "    f.write(response.content)\n",
    "\n",
    "# Load JSON data\n",
    "with open(\"sarcasm.json\", 'r') as f:\n",
    "    datastore = json.load(f)\n",
    "\n",
    "# Prepare sentences and labels\n",
    "sentences = []\n",
    "labels = []\n",
    "\n",
    "for item in datastore:\n",
    "    sentences.append(item['headline'])\n",
    "    labels.append(item['is_sarcastic'])\n",
    "\n",
    "print(\"Number of samples:\", len(sentences))\n",
    "print(\"Example headline:\", sentences[0], \"| Label:\", labels[0])"
   ],
   "id": "bcf875817adc3f55",
   "outputs": [
    {
     "name": "stdout",
     "output_type": "stream",
     "text": [
      "Number of samples: 26709\n",
      "Example headline: former versace store clerk sues over secret 'black code' for minority shoppers | Label: 0\n"
     ]
    }
   ],
   "execution_count": 6
  },
  {
   "metadata": {
    "ExecuteTime": {
     "end_time": "2025-08-20T23:03:23.394306Z",
     "start_time": "2025-08-20T23:03:23.340378Z"
    }
   },
   "cell_type": "code",
   "source": [
    "# Slicing the data\n",
    "training_sentences = sentences[0:training_size]\n",
    "testing_sentences = sentences[training_size:]\n",
    "training_labels = labels[0:training_size]\n",
    "testing_labels = labels[training_size:]"
   ],
   "id": "75f74bf3834b1241",
   "outputs": [],
   "execution_count": 7
  },
  {
   "metadata": {
    "ExecuteTime": {
     "end_time": "2025-08-20T23:07:41.004702Z",
     "start_time": "2025-08-20T23:07:39.368954Z"
    }
   },
   "cell_type": "code",
   "source": [
    "# Tokenizing + Making a dictionary with max number of words + what to replace it with\n",
    "tokenizer = Tokenizer(num_words=vocab_size, oov_token=oov_tok)\n",
    "tokenizer.fit_on_texts(training_sentences)\n",
    "\n",
    "# Creating dictionary\n",
    "\n",
    "word_index = tokenizer.word_index\n",
    "\n",
    "# Maintaining the length by padding and truncating\n",
    "training_sequences = tokenizer.texts_to_sequences(training_sentences)\n",
    "training_padded = pad_sequences(training_sequences, maxlen=max_length, padding=padding_type, truncating=trunc_type)\n",
    "\n",
    "testing_sequences = tokenizer.texts_to_sequences(testing_sentences)\n",
    "testing_padded = pad_sequences(testing_sequences, maxlen=max_length, padding=padding_type, truncating=trunc_type)"
   ],
   "id": "73af49e91851bd06",
   "outputs": [],
   "execution_count": 8
  },
  {
   "metadata": {
    "ExecuteTime": {
     "end_time": "2025-08-20T23:07:56.410555Z",
     "start_time": "2025-08-20T23:07:56.400030Z"
    }
   },
   "cell_type": "code",
   "source": [
    "import numpy as np\n",
    "\n",
    "# Converts training sentences into a NumPy array\n",
    "# Neural networks need numbers in array form for fast computation\n",
    "training_padded = np.array(training_padded)\n",
    "training_labels = np.array(training_labels)\n",
    "testing_padded = np.array(testing_padded)\n",
    "testing_labels = np.array(testing_labels)"
   ],
   "id": "a9cc21545be4dae9",
   "outputs": [],
   "execution_count": 9
  },
  {
   "metadata": {
    "ExecuteTime": {
     "end_time": "2025-08-21T00:11:23.792604Z",
     "start_time": "2025-08-21T00:11:23.752965Z"
    }
   },
   "cell_type": "code",
   "source": [
    "# Creates a sequential model: a stack of layers, one after another\n",
    "# Sequential means the input flows through the layers in order\n",
    "model = tf.keras.Sequential([\n",
    "    # Embedding layer: converts words (numbers) into dense vectors that capture meaning\n",
    "    tf.keras.layers.Embedding(vocab_size, embedding_dim, input_length=max_length),\n",
    "    # Reduces the 100×16 matrix into a single 16-number vector\n",
    "    tf.keras.layers.GlobalAveragePooling1D(),\n",
    "    # A Dense (fully connected) layer with 24 neurons\n",
    "    # activation='relu' → introduces non-linearity, allowing the model to learn complex patterns\n",
    "    tf.keras.layers.Dense(24, activation='relu'),\n",
    "    # The output layer with 1 neuron because this is a binary classification problem (sarcastic or not)\n",
    "    # activation='sigmoid' → outputs a number between 0 and 1 (interpreted as probability of sarcasm)\n",
    "    tf.keras.layers.Dense(1, activation='sigmoid')\n",
    "])\n",
    "# Compiles the model before training\n",
    "model.compile(\n",
    "    # The loss function measures how wrong the model is during training\n",
    "    loss='binary_crossentropy',\n",
    "    # The optimizer is the coach that updates the model's weights (the knobs it adjusts) to reduce the loss\n",
    "    optimizer='adam',\n",
    "    # This doesn’t affect training itself (that’s the loss + optimizer), but it shows  how well the model is doing\n",
    "    metrics=['accuracy'])\n",
    "\n",
    "model.summary()"
   ],
   "id": "2567c60c9d37d258",
   "outputs": [
    {
     "name": "stderr",
     "output_type": "stream",
     "text": [
      "C:\\Users\\denni\\PycharmProjects\\PythonProject\\NaturalLanguageProcessing\\.venv\\Lib\\site-packages\\keras\\src\\layers\\core\\embedding.py:97: UserWarning: Argument `input_length` is deprecated. Just remove it.\n",
      "  warnings.warn(\n"
     ]
    },
    {
     "data": {
      "text/plain": [
       "\u001B[1mModel: \"sequential_1\"\u001B[0m\n"
      ],
      "text/html": [
       "<pre style=\"white-space:pre;overflow-x:auto;line-height:normal;font-family:Menlo,'DejaVu Sans Mono',consolas,'Courier New',monospace\"><span style=\"font-weight: bold\">Model: \"sequential_1\"</span>\n",
       "</pre>\n"
      ]
     },
     "metadata": {},
     "output_type": "display_data"
    },
    {
     "data": {
      "text/plain": [
       "┏━━━━━━━━━━━━━━━━━━━━━━━━━━━━━━━━━┳━━━━━━━━━━━━━━━━━━━━━━━━┳━━━━━━━━━━━━━━━┓\n",
       "┃\u001B[1m \u001B[0m\u001B[1mLayer (type)                   \u001B[0m\u001B[1m \u001B[0m┃\u001B[1m \u001B[0m\u001B[1mOutput Shape          \u001B[0m\u001B[1m \u001B[0m┃\u001B[1m \u001B[0m\u001B[1m      Param #\u001B[0m\u001B[1m \u001B[0m┃\n",
       "┡━━━━━━━━━━━━━━━━━━━━━━━━━━━━━━━━━╇━━━━━━━━━━━━━━━━━━━━━━━━╇━━━━━━━━━━━━━━━┩\n",
       "│ embedding_1 (\u001B[38;5;33mEmbedding\u001B[0m)         │ ?                      │   \u001B[38;5;34m0\u001B[0m (unbuilt) │\n",
       "├─────────────────────────────────┼────────────────────────┼───────────────┤\n",
       "│ global_average_pooling1d_1      │ ?                      │             \u001B[38;5;34m0\u001B[0m │\n",
       "│ (\u001B[38;5;33mGlobalAveragePooling1D\u001B[0m)        │                        │               │\n",
       "├─────────────────────────────────┼────────────────────────┼───────────────┤\n",
       "│ dense_2 (\u001B[38;5;33mDense\u001B[0m)                 │ ?                      │   \u001B[38;5;34m0\u001B[0m (unbuilt) │\n",
       "├─────────────────────────────────┼────────────────────────┼───────────────┤\n",
       "│ dense_3 (\u001B[38;5;33mDense\u001B[0m)                 │ ?                      │   \u001B[38;5;34m0\u001B[0m (unbuilt) │\n",
       "└─────────────────────────────────┴────────────────────────┴───────────────┘\n"
      ],
      "text/html": [
       "<pre style=\"white-space:pre;overflow-x:auto;line-height:normal;font-family:Menlo,'DejaVu Sans Mono',consolas,'Courier New',monospace\">┏━━━━━━━━━━━━━━━━━━━━━━━━━━━━━━━━━┳━━━━━━━━━━━━━━━━━━━━━━━━┳━━━━━━━━━━━━━━━┓\n",
       "┃<span style=\"font-weight: bold\"> Layer (type)                    </span>┃<span style=\"font-weight: bold\"> Output Shape           </span>┃<span style=\"font-weight: bold\">       Param # </span>┃\n",
       "┡━━━━━━━━━━━━━━━━━━━━━━━━━━━━━━━━━╇━━━━━━━━━━━━━━━━━━━━━━━━╇━━━━━━━━━━━━━━━┩\n",
       "│ embedding_1 (<span style=\"color: #0087ff; text-decoration-color: #0087ff\">Embedding</span>)         │ ?                      │   <span style=\"color: #00af00; text-decoration-color: #00af00\">0</span> (unbuilt) │\n",
       "├─────────────────────────────────┼────────────────────────┼───────────────┤\n",
       "│ global_average_pooling1d_1      │ ?                      │             <span style=\"color: #00af00; text-decoration-color: #00af00\">0</span> │\n",
       "│ (<span style=\"color: #0087ff; text-decoration-color: #0087ff\">GlobalAveragePooling1D</span>)        │                        │               │\n",
       "├─────────────────────────────────┼────────────────────────┼───────────────┤\n",
       "│ dense_2 (<span style=\"color: #0087ff; text-decoration-color: #0087ff\">Dense</span>)                 │ ?                      │   <span style=\"color: #00af00; text-decoration-color: #00af00\">0</span> (unbuilt) │\n",
       "├─────────────────────────────────┼────────────────────────┼───────────────┤\n",
       "│ dense_3 (<span style=\"color: #0087ff; text-decoration-color: #0087ff\">Dense</span>)                 │ ?                      │   <span style=\"color: #00af00; text-decoration-color: #00af00\">0</span> (unbuilt) │\n",
       "└─────────────────────────────────┴────────────────────────┴───────────────┘\n",
       "</pre>\n"
      ]
     },
     "metadata": {},
     "output_type": "display_data"
    },
    {
     "data": {
      "text/plain": [
       "\u001B[1m Total params: \u001B[0m\u001B[38;5;34m0\u001B[0m (0.00 B)\n"
      ],
      "text/html": [
       "<pre style=\"white-space:pre;overflow-x:auto;line-height:normal;font-family:Menlo,'DejaVu Sans Mono',consolas,'Courier New',monospace\"><span style=\"font-weight: bold\"> Total params: </span><span style=\"color: #00af00; text-decoration-color: #00af00\">0</span> (0.00 B)\n",
       "</pre>\n"
      ]
     },
     "metadata": {},
     "output_type": "display_data"
    },
    {
     "data": {
      "text/plain": [
       "\u001B[1m Trainable params: \u001B[0m\u001B[38;5;34m0\u001B[0m (0.00 B)\n"
      ],
      "text/html": [
       "<pre style=\"white-space:pre;overflow-x:auto;line-height:normal;font-family:Menlo,'DejaVu Sans Mono',consolas,'Courier New',monospace\"><span style=\"font-weight: bold\"> Trainable params: </span><span style=\"color: #00af00; text-decoration-color: #00af00\">0</span> (0.00 B)\n",
       "</pre>\n"
      ]
     },
     "metadata": {},
     "output_type": "display_data"
    },
    {
     "data": {
      "text/plain": [
       "\u001B[1m Non-trainable params: \u001B[0m\u001B[38;5;34m0\u001B[0m (0.00 B)\n"
      ],
      "text/html": [
       "<pre style=\"white-space:pre;overflow-x:auto;line-height:normal;font-family:Menlo,'DejaVu Sans Mono',consolas,'Courier New',monospace\"><span style=\"font-weight: bold\"> Non-trainable params: </span><span style=\"color: #00af00; text-decoration-color: #00af00\">0</span> (0.00 B)\n",
       "</pre>\n"
      ]
     },
     "metadata": {},
     "output_type": "display_data"
    }
   ],
   "execution_count": 16
  },
  {
   "metadata": {
    "ExecuteTime": {
     "end_time": "2025-08-21T00:20:35.033092Z",
     "start_time": "2025-08-21T00:19:41.278895Z"
    }
   },
   "cell_type": "code",
   "source": [
    "# Train the model for 30 epochs on training data, validate on testing data, and save training history\n",
    "\n",
    "num_epochs = 30\n",
    "history = model.fit(training_padded, training_labels, epochs=num_epochs, validation_data=(testing_padded, testing_labels), verbose=2)"
   ],
   "id": "703e65cbd1921cc6",
   "outputs": [
    {
     "name": "stdout",
     "output_type": "stream",
     "text": [
      "Epoch 1/30\n",
      "625/625 - 2s - 3ms/step - accuracy: 0.9330 - loss: 0.1719 - val_accuracy: 0.8489 - val_loss: 0.3842\n",
      "Epoch 2/30\n",
      "625/625 - 2s - 3ms/step - accuracy: 0.9434 - loss: 0.1524 - val_accuracy: 0.8489 - val_loss: 0.3905\n",
      "Epoch 3/30\n",
      "625/625 - 1s - 2ms/step - accuracy: 0.9417 - loss: 0.1528 - val_accuracy: 0.8471 - val_loss: 0.3991\n",
      "Epoch 4/30\n",
      "625/625 - 2s - 3ms/step - accuracy: 0.9417 - loss: 0.1485 - val_accuracy: 0.8460 - val_loss: 0.4109\n",
      "Epoch 5/30\n",
      "625/625 - 2s - 2ms/step - accuracy: 0.9487 - loss: 0.1365 - val_accuracy: 0.8320 - val_loss: 0.4490\n",
      "Epoch 6/30\n",
      "625/625 - 2s - 3ms/step - accuracy: 0.9481 - loss: 0.1349 - val_accuracy: 0.8517 - val_loss: 0.4166\n",
      "Epoch 7/30\n",
      "625/625 - 2s - 3ms/step - accuracy: 0.9546 - loss: 0.1228 - val_accuracy: 0.8489 - val_loss: 0.4267\n",
      "Epoch 8/30\n",
      "625/625 - 2s - 3ms/step - accuracy: 0.9531 - loss: 0.1250 - val_accuracy: 0.8498 - val_loss: 0.4385\n",
      "Epoch 9/30\n",
      "625/625 - 2s - 3ms/step - accuracy: 0.9599 - loss: 0.1121 - val_accuracy: 0.8468 - val_loss: 0.4518\n",
      "Epoch 10/30\n",
      "625/625 - 1s - 2ms/step - accuracy: 0.9571 - loss: 0.1152 - val_accuracy: 0.8287 - val_loss: 0.5046\n",
      "Epoch 11/30\n",
      "625/625 - 2s - 3ms/step - accuracy: 0.9557 - loss: 0.1146 - val_accuracy: 0.8427 - val_loss: 0.4772\n",
      "Epoch 12/30\n",
      "625/625 - 1s - 2ms/step - accuracy: 0.9574 - loss: 0.1112 - val_accuracy: 0.8325 - val_loss: 0.5250\n",
      "Epoch 13/30\n",
      "625/625 - 2s - 2ms/step - accuracy: 0.9556 - loss: 0.1163 - val_accuracy: 0.8129 - val_loss: 0.6521\n",
      "Epoch 14/30\n",
      "625/625 - 2s - 2ms/step - accuracy: 0.9584 - loss: 0.1086 - val_accuracy: 0.8439 - val_loss: 0.4981\n",
      "Epoch 15/30\n",
      "625/625 - 2s - 3ms/step - accuracy: 0.9587 - loss: 0.1095 - val_accuracy: 0.8426 - val_loss: 0.5067\n",
      "Epoch 16/30\n",
      "625/625 - 2s - 3ms/step - accuracy: 0.9550 - loss: 0.1138 - val_accuracy: 0.8316 - val_loss: 0.5405\n",
      "Epoch 17/30\n",
      "625/625 - 3s - 5ms/step - accuracy: 0.9611 - loss: 0.1026 - val_accuracy: 0.8249 - val_loss: 0.5662\n",
      "Epoch 18/30\n",
      "625/625 - 4s - 6ms/step - accuracy: 0.9657 - loss: 0.0926 - val_accuracy: 0.8392 - val_loss: 0.5341\n",
      "Epoch 19/30\n",
      "625/625 - 1s - 2ms/step - accuracy: 0.9685 - loss: 0.0872 - val_accuracy: 0.8348 - val_loss: 0.5524\n",
      "Epoch 20/30\n",
      "625/625 - 2s - 3ms/step - accuracy: 0.9704 - loss: 0.0824 - val_accuracy: 0.8299 - val_loss: 0.6086\n",
      "Epoch 21/30\n",
      "625/625 - 2s - 2ms/step - accuracy: 0.9637 - loss: 0.0938 - val_accuracy: 0.8281 - val_loss: 0.6332\n",
      "Epoch 22/30\n",
      "625/625 - 1s - 2ms/step - accuracy: 0.9711 - loss: 0.0783 - val_accuracy: 0.8353 - val_loss: 0.5949\n",
      "Epoch 23/30\n",
      "625/625 - 2s - 3ms/step - accuracy: 0.9697 - loss: 0.0798 - val_accuracy: 0.8338 - val_loss: 0.6167\n",
      "Epoch 24/30\n",
      "625/625 - 2s - 3ms/step - accuracy: 0.9620 - loss: 0.1017 - val_accuracy: 0.8344 - val_loss: 0.6053\n",
      "Epoch 25/30\n",
      "625/625 - 2s - 3ms/step - accuracy: 0.9726 - loss: 0.0750 - val_accuracy: 0.8325 - val_loss: 0.6167\n",
      "Epoch 26/30\n",
      "625/625 - 2s - 3ms/step - accuracy: 0.9699 - loss: 0.0796 - val_accuracy: 0.8256 - val_loss: 0.6987\n",
      "Epoch 27/30\n",
      "625/625 - 2s - 3ms/step - accuracy: 0.9741 - loss: 0.0710 - val_accuracy: 0.8226 - val_loss: 0.6627\n",
      "Epoch 28/30\n",
      "625/625 - 2s - 3ms/step - accuracy: 0.9751 - loss: 0.0693 - val_accuracy: 0.8275 - val_loss: 0.6573\n",
      "Epoch 29/30\n",
      "625/625 - 2s - 3ms/step - accuracy: 0.9739 - loss: 0.0714 - val_accuracy: 0.8258 - val_loss: 0.6713\n",
      "Epoch 30/30\n",
      "625/625 - 2s - 3ms/step - accuracy: 0.9721 - loss: 0.0734 - val_accuracy: 0.8111 - val_loss: 0.7366\n"
     ]
    }
   ],
   "execution_count": 24
  },
  {
   "metadata": {
    "ExecuteTime": {
     "end_time": "2025-08-21T00:20:35.278141Z",
     "start_time": "2025-08-21T00:20:35.052170Z"
    }
   },
   "cell_type": "code",
   "source": [
    "import matplotlib.pyplot as plt\n",
    "\n",
    "def plot_graphs(history, string):\n",
    "  plt.plot(history.history[string])\n",
    "  plt.plot(history.history['val_'+string])\n",
    "  plt.xlabel(\"Epochs\")\n",
    "  plt.ylabel(string)\n",
    "  plt.legend([string, 'val_'+string])\n",
    "  plt.show()\n",
    "\n",
    "plot_graphs(history, \"accuracy\")\n",
    "plot_graphs(history, \"loss\")"
   ],
   "id": "5c2df51e41f8c208",
   "outputs": [
    {
     "data": {
      "text/plain": [
       "<Figure size 640x480 with 1 Axes>"
      ],
      "image/png": "[encoded data removed]"
     },
     "metadata": {},
     "output_type": "display_data"
    },
    {
     "data": {
      "text/plain": [
       "<Figure size 640x480 with 1 Axes>"
      ],
      "image/png": "[encoded data removed]"
     },
     "metadata": {},
     "output_type": "display_data"
    }
   ],
   "execution_count": 25
  },
  {
   "metadata": {
    "ExecuteTime": {
     "end_time": "2025-08-21T00:41:02.416587Z",
     "start_time": "2025-08-21T00:40:56.275225Z"
    }
   },
   "cell_type": "code",
   "source": [
    "# Use the training model\n",
    "\n",
    "sentence = [input(\"Enter sentence to detect Sarcasm: \")]\n",
    "sequences = tokenizer.texts_to_sequences(sentence)\n",
    "padded = pad_sequences(sequences, maxlen=max_length, padding=padding_type, truncating=trunc_type)\n",
    "print(model.predict(padded))"
   ],
   "id": "c75fb022c910e82f",
   "outputs": [
    {
     "name": "stdout",
     "output_type": "stream",
     "text": [
      "\u001B[1m1/1\u001B[0m \u001B[32m━━━━━━━━━━━━━━━━━━━━\u001B[0m\u001B[37m\u001B[0m \u001B[1m0s\u001B[0m 56ms/step\n",
      "[[0.00012964]]\n"
     ]
    }
   ],
   "execution_count": 34
  }
 ],
 "metadata": {
  "kernelspec": {
   "display_name": "Python 3",
   "language": "python",
   "name": "python3"
  },
  "language_info": {
   "codemirror_mode": {
    "name": "ipython",
    "version": 2
   },
   "file_extension": ".py",
   "mimetype": "text/x-python",
   "name": "python",
   "nbconvert_exporter": "python",
   "pygments_lexer": "ipython2",
   "version": "2.7.6"
  }
 },
 "nbformat": 4,
 "nbformat_minor": 5
}
